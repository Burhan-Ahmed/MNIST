{
  "cells": [
    {
      "cell_type": "code",
      "source": [
        "import tensorflow as tf\n",
        "from tensorflow import keras\n",
        "import numpy as np\n",
        "import matplotlib.pyplot as plt\n",
        "\n",
        "# Load MNIST dataset\n",
        "(x_train,y_train), (x_test,y_test) = keras.datasets.mnist.load_data()"
      ],
      "metadata": {
        "id": "c-M15zY6GnRC"
      },
      "execution_count": 11,
      "outputs": []
    },
    {
      "cell_type": "code",
      "source": [
        "# Preprocess data\n",
        "x_train = x_train.reshape(-1, 28 * 28)  # Flatten image to 1D array\n",
        "x_test = x_test.reshape(-1, 28 * 28)\n",
        "x_train = x_train.astype(\"float32\") / 255.0  # Normalize pixel values\n",
        "x_test = x_test.astype(\"float32\") / 255.0\n",
        "\n",
        "# Conversion to one-hot encoding\n",
        "y_train = tf.keras.utils.to_categorical(y_train, num_classes=10)\n",
        "y_test = tf.keras.utils.to_categorical(y_test, num_classes=10)"
      ],
      "metadata": {
        "id": "uvLH3Le_CxA1"
      },
      "execution_count": 12,
      "outputs": []
    },
    {
      "cell_type": "code",
      "source": [
        "# Neural network model\n",
        "model = tf.keras.Sequential([\n",
        "  keras.layers.Flatten(input_shape=(28 * 28,)),\n",
        "  keras.layers.Dense(128, activation=\"relu\"),\n",
        "  keras.layers.Dense(10, activation=\"softmax\")\n",
        "])\n",
        "\n",
        "# Compile the model\n",
        "model.compile(optimizer=\"adam\",\n",
        "              loss=\"categorical_crossentropy\",\n",
        "              metrics=[\"accuracy\"])\n"
      ],
      "metadata": {
        "id": "x_6N3H0UC0v-"
      },
      "execution_count": 14,
      "outputs": []
    },
    {
      "cell_type": "code",
      "source": [
        "# Train the model\n",
        "model.fit(x_train, y_train, epochs=20, validation_data=(x_test, y_test))\n",
        "\n",
        "# Evaluate the model\n",
        "test_loss, test_acc = model.evaluate(x_test, y_test)\n",
        "print(\"Test accuracy:\", test_acc)"
      ],
      "metadata": {
        "colab": {
          "base_uri": "https://localhost:8080/"
        },
        "id": "KvgABj_EC3_d",
        "outputId": "7b59638e-f0ac-462f-e310-78de94aaf195"
      },
      "execution_count": 15,
      "outputs": [
        {
          "output_type": "stream",
          "name": "stdout",
          "text": [
            "Epoch 1/20\n",
            "1875/1875 [==============================] - 7s 3ms/step - loss: 0.2602 - accuracy: 0.9257 - val_loss: 0.1509 - val_accuracy: 0.9556\n",
            "Epoch 2/20\n",
            "1875/1875 [==============================] - 6s 3ms/step - loss: 0.1141 - accuracy: 0.9661 - val_loss: 0.1107 - val_accuracy: 0.9668\n",
            "Epoch 3/20\n",
            "1875/1875 [==============================] - 6s 3ms/step - loss: 0.0788 - accuracy: 0.9761 - val_loss: 0.0876 - val_accuracy: 0.9733\n",
            "Epoch 4/20\n",
            "1875/1875 [==============================] - 7s 4ms/step - loss: 0.0587 - accuracy: 0.9824 - val_loss: 0.0772 - val_accuracy: 0.9761\n",
            "Epoch 5/20\n",
            "1875/1875 [==============================] - 6s 3ms/step - loss: 0.0464 - accuracy: 0.9852 - val_loss: 0.0786 - val_accuracy: 0.9765\n",
            "Epoch 6/20\n",
            "1875/1875 [==============================] - 7s 4ms/step - loss: 0.0343 - accuracy: 0.9894 - val_loss: 0.0762 - val_accuracy: 0.9762\n",
            "Epoch 7/20\n",
            "1875/1875 [==============================] - 6s 3ms/step - loss: 0.0294 - accuracy: 0.9909 - val_loss: 0.0748 - val_accuracy: 0.9780\n",
            "Epoch 8/20\n",
            "1875/1875 [==============================] - 6s 3ms/step - loss: 0.0240 - accuracy: 0.9919 - val_loss: 0.0739 - val_accuracy: 0.9775\n",
            "Epoch 9/20\n",
            "1875/1875 [==============================] - 7s 4ms/step - loss: 0.0197 - accuracy: 0.9938 - val_loss: 0.0773 - val_accuracy: 0.9777\n",
            "Epoch 10/20\n",
            "1875/1875 [==============================] - 6s 3ms/step - loss: 0.0156 - accuracy: 0.9952 - val_loss: 0.0775 - val_accuracy: 0.9780\n",
            "Epoch 11/20\n",
            "1875/1875 [==============================] - 6s 3ms/step - loss: 0.0140 - accuracy: 0.9955 - val_loss: 0.0767 - val_accuracy: 0.9784\n",
            "Epoch 12/20\n",
            "1875/1875 [==============================] - 6s 3ms/step - loss: 0.0124 - accuracy: 0.9962 - val_loss: 0.0872 - val_accuracy: 0.9778\n",
            "Epoch 13/20\n",
            "1875/1875 [==============================] - 6s 3ms/step - loss: 0.0106 - accuracy: 0.9967 - val_loss: 0.0904 - val_accuracy: 0.9764\n",
            "Epoch 14/20\n",
            "1875/1875 [==============================] - 6s 3ms/step - loss: 0.0091 - accuracy: 0.9969 - val_loss: 0.0927 - val_accuracy: 0.9779\n",
            "Epoch 15/20\n",
            "1875/1875 [==============================] - 7s 4ms/step - loss: 0.0076 - accuracy: 0.9976 - val_loss: 0.0892 - val_accuracy: 0.9788\n",
            "Epoch 16/20\n",
            "1875/1875 [==============================] - 7s 3ms/step - loss: 0.0077 - accuracy: 0.9976 - val_loss: 0.0850 - val_accuracy: 0.9802\n",
            "Epoch 17/20\n",
            "1875/1875 [==============================] - 14s 7ms/step - loss: 0.0061 - accuracy: 0.9981 - val_loss: 0.1147 - val_accuracy: 0.9747\n",
            "Epoch 18/20\n",
            "1875/1875 [==============================] - 10s 5ms/step - loss: 0.0061 - accuracy: 0.9982 - val_loss: 0.1066 - val_accuracy: 0.9763\n",
            "Epoch 19/20\n",
            "1875/1875 [==============================] - 7s 4ms/step - loss: 0.0052 - accuracy: 0.9982 - val_loss: 0.1000 - val_accuracy: 0.9787\n",
            "Epoch 20/20\n",
            "1875/1875 [==============================] - 6s 3ms/step - loss: 0.0062 - accuracy: 0.9981 - val_loss: 0.1095 - val_accuracy: 0.9785\n",
            "313/313 [==============================] - 1s 3ms/step - loss: 0.1095 - accuracy: 0.9785\n",
            "Test accuracy: 0.9785000085830688\n",
            "Test Loss: 0.10945494472980499\n"
          ]
        }
      ]
    },
    {
      "cell_type": "code",
      "source": [
        "# Function to preprocess user input\n",
        "def preprocess_user_input(input_digit):\n",
        "    # Get an example of the digit from the MNIST dataset\n",
        "    example_index = np.where(y_train[:, input_digit] == 1)[0][0]\n",
        "    input_array = x_train[example_index]\n",
        "    return input_array\n",
        "\n",
        "# Function to predict the digit from user input\n",
        "def predict_user_input(input_digit):\n",
        "    processed_input = preprocess_user_input(input_digit)\n",
        "    processed_input = np.expand_dims(processed_input, axis=0)  # Add batch dimension\n",
        "    prediction = model.predict(processed_input)\n",
        "    predicted_digit = np.argmax(prediction)\n",
        "    return predicted_digit\n",
        "\n",
        "# Function to display the image of entered number\n",
        "def display_image(image_array):\n",
        "    plt.imshow(image_array.reshape(28, 28), cmap='gray')\n",
        "    plt.axis('off')\n",
        "    plt.show()"
      ],
      "metadata": {
        "id": "qObppK74C9N9"
      },
      "execution_count": 32,
      "outputs": []
    },
    {
      "cell_type": "code",
      "source": [
        "# Example usage with user input\n",
        "user_input = int(input('Enter Number : '))\n",
        "predicted_digit = predict_user_input(user_input)\n",
        "print(\"Predicted digit:\", predicted_digit)\n",
        "display_image(preprocess_user_input(user_input))"
      ],
      "metadata": {
        "colab": {
          "base_uri": "https://localhost:8080/",
          "height": 458
        },
        "id": "Ap9ZaUZ2PhbU",
        "outputId": "b8a5c3ac-5781-4c7d-f1ee-5ff3f8a049dc"
      },
      "execution_count": 38,
      "outputs": [
        {
          "output_type": "stream",
          "name": "stdout",
          "text": [
            "Enter Number : 3\n",
            "1/1 [==============================] - 0s 18ms/step\n",
            "Predicted digit: 3\n"
          ]
        },
        {
          "output_type": "display_data",
          "data": {
            "text/plain": [
              "<Figure size 640x480 with 1 Axes>"
            ],
            "image/png": "[encoded data removed]"
          },
          "metadata": {}
        }
      ]
    }
  ],
  "metadata": {
    "accelerator": "GPU",
    "colab": {
      "gpuType": "T4",
      "provenance": []
    },
    "kernelspec": {
      "display_name": "Python 3",
      "name": "python3"
    },
    "language_info": {
      "name": "python"
    }
  },
  "nbformat": 4,
  "nbformat_minor": 0
}